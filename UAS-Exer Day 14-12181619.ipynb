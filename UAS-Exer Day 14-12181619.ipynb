{
 "cells": [
  {
   "cell_type": "code",
   "execution_count": 1,
   "metadata": {},
   "outputs": [
    {
     "data": {
      "application/vnd.jupyter.widget-view+json": {
       "model_id": "6f847315-f44f-456d-b599-0fca58ef858e",
       "version_major": 2,
       "version_minor": 0
      },
      "method": "display_data"
     },
     "metadata": {},
     "output_type": "display_data"
    }
   ],
   "source": [
    "//Load Library\n",
    "%classpath add jar libs/*"
   ]
  },
  {
   "cell_type": "code",
   "execution_count": 3,
   "metadata": {},
   "outputs": [
    {
     "name": "stdout",
     "output_type": "stream",
     "text": [
      "        Structure of 12181619.csv         \n",
      " Index  |  Column Name   |  Column Type  |\n",
      "------------------------------------------\n",
      "     0  |           _id  |      INTEGER  |\n",
      "     1  |           idx  |      INTEGER  |\n",
      "     2  |        series  |       STRING  |\n",
      "     3  |  kode_wilayah  |      INTEGER  |\n",
      "     4  |       wilayah  |       STRING  |\n",
      "     5  |         tahun  |      INTEGER  |\n",
      "     6  |      triwulan  |       STRING  |\n",
      "     7  |         bulan  |       STRING  |\n",
      "     8  |       tanggal  |       STRING  |\n",
      "     9  |         nilai  |         LONG  |\n",
      "    10  |        target  |       STRING  |\n",
      "                                                                                    12181619.csv                                                                                     \n",
      " _id  |  idx  |                   series                    |  kode_wilayah  |           wilayah           |  tahun  |  triwulan  |  bulan  |  tanggal  |     nilai      |  target  |\n",
      "-------------------------------------------------------------------------------------------------------------------------------------------------------------------------------------\n",
      "   1  |    0  |  Kerugian Materi Akibat Kekeringan (Lahan)  |             1  |                  Indonesia  |   2011  |            |         |           |  408682000000  |          |\n",
      "   2  |    1  |  Kerugian Materi Akibat Kekeringan (Lahan)  |            11  |                       ACEH  |   2011  |            |         |           |   21927000000  |          |\n",
      "   3  |    2  |  Kerugian Materi Akibat Kekeringan (Lahan)  |            12  |             SUMATERA UTARA  |   2011  |            |         |           |   20334000000  |          |\n",
      "   4  |    3  |  Kerugian Materi Akibat Kekeringan (Lahan)  |            13  |             SUMATERA BARAT  |   2011  |            |         |           |   28155000000  |          |\n",
      "   5  |    4  |  Kerugian Materi Akibat Kekeringan (Lahan)  |            14  |                       RIAU  |   2011  |            |         |           |    2636000000  |          |\n",
      "   6  |    5  |  Kerugian Materi Akibat Kekeringan (Lahan)  |            15  |                      JAMBI  |   2011  |            |         |           |    6841000000  |          |\n",
      "   7  |    6  |  Kerugian Materi Akibat Kekeringan (Lahan)  |            16  |           SUMATERA SELATAN  |   2011  |            |         |           |   28443000000  |          |\n",
      "   8  |    7  |  Kerugian Materi Akibat Kekeringan (Lahan)  |            17  |                   BENGKULU  |   2011  |            |         |           |    6622000000  |          |\n",
      "   9  |    8  |  Kerugian Materi Akibat Kekeringan (Lahan)  |            18  |                    LAMPUNG  |   2011  |            |         |           |   10058000000  |          |\n",
      "  10  |    9  |  Kerugian Materi Akibat Kekeringan (Lahan)  |            19  |  KEPULAUAN BANGKA BELITUNG  |   2011  |            |         |           |      97000000  |          |\n",
      " ...  |  ...  |                                        ...  |           ...  |                        ...  |    ...  |       ...  |    ...  |      ...  |           ...  |     ...  |\n",
      " 390  |  389  |  Kerugian Materi Akibat Kekeringan (Lahan)  |          6406  |                    MALINAU  |   2011  |            |         |           |                |          |\n",
      " 391  |  390  |  Kerugian Materi Akibat Kekeringan (Lahan)  |          6407  |                   BULUNGAN  |   2011  |            |         |           |                |          |\n",
      " 392  |  391  |  Kerugian Materi Akibat Kekeringan (Lahan)  |          6408  |                    NUNUKAN  |   2011  |            |         |           |      59000000  |          |\n",
      " 393  |  392  |  Kerugian Materi Akibat Kekeringan (Lahan)  |          6409  |        PENAJAM PASER UTARA  |   2011  |            |         |           |                |          |\n",
      " 394  |  393  |  Kerugian Materi Akibat Kekeringan (Lahan)  |          6410  |                TANA TIDUNG  |   2011  |            |         |           |                |          |\n",
      " 395  |  394  |  Kerugian Materi Akibat Kekeringan (Lahan)  |          6471  |            KOTA BALIKPAPAN  |   2011  |            |         |           |                |          |\n",
      " 396  |  395  |  Kerugian Materi Akibat Kekeringan (Lahan)  |          6472  |             KOTA SAMARINDA  |   2011  |            |         |           |                |          |\n",
      " 397  |  396  |  Kerugian Materi Akibat Kekeringan (Lahan)  |          6473  |               KOTA TARAKAN  |   2011  |            |         |           |                |          |\n",
      " 398  |  397  |  Kerugian Materi Akibat Kekeringan (Lahan)  |          6474  |               KOTA BONTANG  |   2011  |            |         |           |                |          |\n",
      " 399  |  398  |  Kerugian Materi Akibat Kekeringan (Lahan)  |          7101  |          BOLAANG MONGONDOW  |   2011  |            |         |           |     389000000  |          |\n",
      "                                                                                  12181619.json                                                                                   \n",
      " kode_wilayah  |  tahun  |                   series                    |    nilai    |  _id  |           wilayah           |  tanggal  |  idx  |  bulan  |  triwulan  |  target  |\n",
      "----------------------------------------------------------------------------------------------------------------------------------------------------------------------------------\n",
      "         7102  |   2011  |  Kerugian Materi Akibat Kekeringan (Lahan)  |  250000000  |  400  |                   MINAHASA  |           |  399  |         |            |          |\n",
      "         7103  |   2011  |  Kerugian Materi Akibat Kekeringan (Lahan)  |   30000000  |  401  |          KEPULAUAN SANGIHE  |           |  400  |         |            |          |\n",
      "         7104  |   2011  |  Kerugian Materi Akibat Kekeringan (Lahan)  |             |  402  |           KEPULAUAN TALAUD  |           |  401  |         |            |          |\n",
      "         7105  |   2011  |  Kerugian Materi Akibat Kekeringan (Lahan)  |  164000000  |  403  |           MINAHASA SELATAN  |           |  402  |         |            |          |\n",
      "         7106  |   2011  |  Kerugian Materi Akibat Kekeringan (Lahan)  |  319000000  |  404  |             MINAHASA UTARA  |           |  403  |         |            |          |\n",
      "         7107  |   2011  |  Kerugian Materi Akibat Kekeringan (Lahan)  |   24000000  |  405  |    BOLAANG MONGONDOW UTARA  |           |  404  |         |            |          |\n",
      "         7108  |   2011  |  Kerugian Materi Akibat Kekeringan (Lahan)  |             |  406  |     SIAU TAGULANDANG BIARO  |           |  405  |         |            |          |\n",
      "         7109  |   2011  |  Kerugian Materi Akibat Kekeringan (Lahan)  |             |  407  |          MINAHASA TENGGARA  |           |  406  |         |            |          |\n",
      "         7110  |   2011  |  Kerugian Materi Akibat Kekeringan (Lahan)  |   28000000  |  408  |  BOLAANG MONGONDOW SELATAN  |           |  407  |         |            |          |\n",
      "         7111  |   2011  |  Kerugian Materi Akibat Kekeringan (Lahan)  |   30000000  |  409  |    BOLAANG MONGONDOW TIMUR  |           |  408  |         |            |          |\n",
      "          ...  |    ...  |                                        ...  |        ...  |  ...  |                        ...  |      ...  |  ...  |    ...  |       ...  |     ...  |\n",
      "      1171010  |   2011  |  Kerugian Materi Akibat Kekeringan (Lahan)  |             |  791  |                    MEURAXA  |           |  790  |         |            |          |\n",
      "      1171011  |   2011  |  Kerugian Materi Akibat Kekeringan (Lahan)  |             |  792  |                  JAYA BARU  |           |  791  |         |            |          |\n",
      "      1171012  |   2011  |  Kerugian Materi Akibat Kekeringan (Lahan)  |             |  793  |                 BANDA RAYA  |           |  792  |         |            |          |\n",
      "      1171020  |   2011  |  Kerugian Materi Akibat Kekeringan (Lahan)  |             |  794  |               BAITURRAHMAN  |           |  793  |         |            |          |\n",
      "      1171021  |   2011  |  Kerugian Materi Akibat Kekeringan (Lahan)  |             |  795  |                 LUENG BATA  |           |  794  |         |            |          |\n",
      "      1171030  |   2011  |  Kerugian Materi Akibat Kekeringan (Lahan)  |             |  796  |                  KUTA ALAM  |           |  795  |         |            |          |\n",
      "      1171031  |   2011  |  Kerugian Materi Akibat Kekeringan (Lahan)  |             |  797  |                  KUTA RAJA  |           |  796  |         |            |          |\n",
      "      1171040  |   2011  |  Kerugian Materi Akibat Kekeringan (Lahan)  |             |  798  |                SYIAH KUALA  |           |  797  |         |            |          |\n",
      "      1171041  |   2011  |  Kerugian Materi Akibat Kekeringan (Lahan)  |             |  799  |                ULEE KARENG  |           |  798  |         |            |          |\n"
     ]
    },
    {
     "name": "stdout",
     "output_type": "stream",
     "text": [
      "      1172010  |   2011  |  Kerugian Materi Akibat Kekeringan (Lahan)  |             |  800  |                   SUKAJAYA  |           |  799  |         |            |          |\n",
      "                                                                          12181619.csv                                                                          \n",
      " _id  |  idx  |                   series                    |  kode_wilayah  |    wilayah    |  tahun  |  triwulan  |  bulan  |  tanggal  |  nilai  |  target  |\n",
      "----------------------------------------------------------------------------------------------------------------------------------------------------------------\n",
      " 796  |  795  |  Kerugian Materi Akibat Kekeringan (Lahan)  |       1171030  |    KUTA ALAM  |   2011  |            |         |           |         |          |\n",
      " 797  |  796  |  Kerugian Materi Akibat Kekeringan (Lahan)  |       1171031  |    KUTA RAJA  |   2011  |            |         |           |         |          |\n",
      " 798  |  797  |  Kerugian Materi Akibat Kekeringan (Lahan)  |       1171040  |  SYIAH KUALA  |   2011  |            |         |           |         |          |\n",
      " 799  |  798  |  Kerugian Materi Akibat Kekeringan (Lahan)  |       1171041  |  ULEE KARENG  |   2011  |            |         |           |         |          |\n",
      " 800  |  799  |  Kerugian Materi Akibat Kekeringan (Lahan)  |       1172010  |     SUKAJAYA  |   2011  |            |         |           |         |          |\n"
     ]
    },
    {
     "data": {
      "text/plain": [
       "null"
      ]
     },
     "execution_count": 3,
     "metadata": {},
     "output_type": "execute_result"
    }
   ],
   "source": [
    "//point soal no. 1 & 2\n",
    "import tech.tablesaw.api.*;\n",
    "import tech.tablesaw.io.json.*;\n",
    "import static tech.tablesaw.aggregate.AggregateFunctions.*;\n",
    "// display Tablesaw tables with BeakerX table display widget\n",
    "tech.tablesaw.beakerx.TablesawDisplayer.register();\n",
    "\n",
    "//init objek\n",
    "Table  i12181619= Table.read().csv(\"datasets/12181619/12181619.csv\");\n",
    "//print dataset structure\n",
    "System.out.println(i12181619.structure());\n",
    "\n",
    "\n",
    " //Menampilkan semua data dari  frame Binatang\n",
    "\n",
    "System.out.println(i12181619.print());\n",
    "\n",
    "//Json//\n",
    "\n",
    "//init objek JsonReader \n",
    "JsonReader reader = new JsonReader();\n",
    "\n",
    "//membaca file product.json\n",
    "JsonReadOptions fileJSON = JsonReadOptions.builder(\"datasets/12181619/12181619.json\").build();\n",
    "\n",
    "//memasukan data fileJSON ke dataframe \n",
    "Table r12181619 = reader.read(fileJSON);\n",
    "\n",
    "//Menampilkan semua data dari  frame Binatang\n",
    "\n",
    "System.out.println(r12181619.print());\n",
    "\n",
    "// Menggabungkan//\n",
    "//menggabungkan data pada dataframedata1 dan dataframedata2 untuk disimpan di df datagabung\n",
    "Table datagabung = i12181619.append(r12181619);\n",
    "\n",
    "//menampilkan gabungan data yang ada di dataframe datagabung\n",
    "System.out.println(datagabung.last(5)); \n",
    "\n"
   ]
  },
  {
   "cell_type": "code",
   "execution_count": null,
   "metadata": {},
   "outputs": [],
   "source": []
  }
 ],
 "metadata": {
  "kernelspec": {
   "display_name": "Java",
   "language": "java",
   "name": "java"
  },
  "language_info": {
   "codemirror_mode": "text/x-java",
   "file_extension": ".java",
   "mimetype": "",
   "name": "Java",
   "nbconverter_exporter": "",
   "version": "1.8.0_121"
  },
  "toc": {
   "base_numbering": 1,
   "nav_menu": {},
   "number_sections": false,
   "sideBar": false,
   "skip_h1_title": false,
   "title_cell": "Table of Contents",
   "title_sidebar": "Contents",
   "toc_cell": false,
   "toc_position": {},
   "toc_section_display": false,
   "toc_window_display": false
  }
 },
 "nbformat": 4,
 "nbformat_minor": 2
}
