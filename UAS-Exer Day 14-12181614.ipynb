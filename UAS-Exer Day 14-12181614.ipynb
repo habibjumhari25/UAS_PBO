{
 "cells": [
  {
   "cell_type": "code",
   "execution_count": 1,
   "metadata": {},
   "outputs": [
    {
     "data": {
      "application/vnd.jupyter.widget-view+json": {
       "model_id": "9de8ada5-bf2b-47c3-9b64-48e1e25d833a",
       "version_major": 2,
       "version_minor": 0
      },
      "method": "display_data"
     },
     "metadata": {},
     "output_type": "display_data"
    }
   ],
   "source": [
    "//Load Library\n",
    "%classpath add jar libs/*"
   ]
  },
  {
   "cell_type": "code",
   "execution_count": 2,
   "metadata": {},
   "outputs": [
    {
     "name": "stdout",
     "output_type": "stream",
     "text": [
      "        Structure of 12181614.csv         \n",
      " Index  |  Column Name   |  Column Type  |\n",
      "------------------------------------------\n",
      "     0  |           _id  |      INTEGER  |\n",
      "     1  |           idx  |      INTEGER  |\n",
      "     2  |        series  |       STRING  |\n",
      "     3  |  kode_wilayah  |      INTEGER  |\n",
      "     4  |       wilayah  |       STRING  |\n",
      "     5  |         tahun  |      INTEGER  |\n",
      "     6  |      triwulan  |       STRING  |\n",
      "     7  |         bulan  |       STRING  |\n",
      "     8  |       tanggal  |       STRING  |\n",
      "     9  |         nilai  |       DOUBLE  |\n",
      "    10  |        target  |       STRING  |\n",
      "                                                                          12181614.csv                                                                          \n",
      " _id  |  idx  |             series             |  kode_wilayah  |          wilayah          |  tahun  |  triwulan  |  bulan  |  tanggal  |  nilai   |  target  |\n",
      "----------------------------------------------------------------------------------------------------------------------------------------------------------------\n",
      " 390  |  389  |  Luas Lahan yang Dibakar (Ha)  |          7107  |  BOLAANG MONGONDOW UTARA  |   2008  |            |         |           |     992  |          |\n",
      " 391  |  390  |  Luas Lahan yang Dibakar (Ha)  |          7108  |   SIAU TAGULANDANG BIARO  |   2008  |            |         |           |      48  |          |\n",
      " 392  |  391  |  Luas Lahan yang Dibakar (Ha)  |          7109  |        MINAHASA TENGGARA  |   2008  |            |         |           |      77  |          |\n",
      " 393  |  392  |  Luas Lahan yang Dibakar (Ha)  |          7171  |              KOTA MANADO  |   2008  |            |         |           |    16.3  |          |\n",
      " 394  |  393  |  Luas Lahan yang Dibakar (Ha)  |          7172  |              KOTA BITUNG  |   2008  |            |         |           |     228  |          |\n",
      " 395  |  394  |  Luas Lahan yang Dibakar (Ha)  |          7173  |             KOTA TOMOHON  |   2008  |            |         |           |          |          |\n",
      " 396  |  395  |  Luas Lahan yang Dibakar (Ha)  |          7174  |          KOTA KOTAMOBAGU  |   2008  |            |         |           |          |          |\n",
      " 397  |  396  |  Luas Lahan yang Dibakar (Ha)  |          7201  |        BANGGAI KEPULAUAN  |   2008  |            |         |           |    1734  |          |\n",
      " 398  |  397  |  Luas Lahan yang Dibakar (Ha)  |          7202  |                  BANGGAI  |   2008  |            |         |           |  1105.7  |          |\n",
      " 399  |  398  |  Luas Lahan yang Dibakar (Ha)  |          7203  |                 MOROWALI  |   2008  |            |         |           |  2146.2  |          |\n",
      " ...  |  ...  |                           ...  |           ...  |                      ...  |    ...  |       ...  |    ...  |      ...  |     ...  |     ...  |\n",
      " 541  |  540  |  Luas Lahan yang Dibakar (Ha)  |       1104030  |                   BAMBEL  |   2008  |            |         |           |     6.5  |          |\n",
      " 542  |  541  |  Luas Lahan yang Dibakar (Ha)  |       1104031  |              BUKIT TUSAM  |   2008  |            |         |           |      67  |          |\n",
      " 543  |  542  |  Luas Lahan yang Dibakar (Ha)  |       1104032  |               LAWE SUMUR  |   2008  |            |         |           |          |          |\n",
      " 544  |  543  |  Luas Lahan yang Dibakar (Ha)  |       1104040  |               BABUSSALAM  |   2008  |            |         |           |      15  |          |\n",
      " 545  |  544  |  Luas Lahan yang Dibakar (Ha)  |       1104041  |               LAWE BULAN  |   2008  |            |         |           |      45  |          |\n",
      " 546  |  545  |  Luas Lahan yang Dibakar (Ha)  |       1104050  |                    BADAR  |   2008  |            |         |           |      10  |          |\n",
      " 547  |  546  |  Luas Lahan yang Dibakar (Ha)  |       1104051  |            DARUL HASANAH  |   2008  |            |         |           |      76  |          |\n",
      " 548  |  547  |  Luas Lahan yang Dibakar (Ha)  |       1104052  |                  KETAMBE  |   2008  |            |         |           |    17.5  |          |\n",
      " 549  |  548  |  Luas Lahan yang Dibakar (Ha)  |       1104053  |         DELENG POKHKISEN  |   2008  |            |         |           |      10  |          |\n",
      " 550  |  549  |  Luas Lahan yang Dibakar (Ha)  |       1105080  |               SERBA JADI  |   2008  |            |         |           |    1661  |          |\n",
      "                                                                       12181614.json                                                                       \n",
      " kode_wilayah  |  tahun  |             series             |  nilai  |  _id  |        wilayah        |  tanggal  |  idx  |  bulan  |  triwulan  |  target  |\n",
      "-----------------------------------------------------------------------------------------------------------------------------------------------------------\n",
      "      1105081  |   2008  |  Luas Lahan yang Dibakar (Ha)  |     91  |  551  |       SIMPANG JERNIH  |           |  550  |         |            |          |\n",
      "      1105082  |   2008  |  Luas Lahan yang Dibakar (Ha)  |    310  |  552  |             PEUNARON  |           |  551  |         |            |          |\n",
      "      1105090  |   2008  |  Luas Lahan yang Dibakar (Ha)  |     70  |  553  |         BIREM BAYEUN  |           |  552  |         |            |          |\n",
      "      1105100  |   2008  |  Luas Lahan yang Dibakar (Ha)  |         |  554  |       RANTAU SELAMAT  |           |  553  |         |            |          |\n",
      "      1105101  |   2008  |  Luas Lahan yang Dibakar (Ha)  |         |  555  |          SUNGAI RAYA  |           |  554  |         |            |          |\n",
      "      1105110  |   2008  |  Luas Lahan yang Dibakar (Ha)  |     15  |  556  |            PEUREULAK  |           |  555  |         |            |          |\n",
      "      1105111  |   2008  |  Luas Lahan yang Dibakar (Ha)  |         |  557  |      PEUREULAK TIMUR  |           |  556  |         |            |          |\n",
      "      1105112  |   2008  |  Luas Lahan yang Dibakar (Ha)  |         |  558  |      PEUREULAK BARAT  |           |  557  |         |            |          |\n",
      "      1105120  |   2008  |  Luas Lahan yang Dibakar (Ha)  |      3  |  559  |      RANTO PEUREULAK  |           |  558  |         |            |          |\n",
      "      1105130  |   2008  |  Luas Lahan yang Dibakar (Ha)  |         |  560  |           IDI RAYEUK  |           |  559  |         |            |          |\n",
      "          ...  |    ...  |                           ...  |    ...  |  ...  |                  ...  |      ...  |  ...  |    ...  |       ...  |     ...  |\n",
      "      1202031  |   2008  |  Luas Lahan yang Dibakar (Ha)  |         |  791  |          ULU PUNGKUT  |           |  790  |         |            |          |\n",
      "      1202032  |   2008  |  Luas Lahan yang Dibakar (Ha)  |     26  |  792  |            TAMBANGAN  |           |  791  |         |            |          |\n",
      "      1202033  |   2008  |  Luas Lahan yang Dibakar (Ha)  |         |  793  |  LEMBAH SORIK MARAPI  |           |  792  |         |            |          |\n",
      "      1202034  |   2008  |  Luas Lahan yang Dibakar (Ha)  |         |  794  |  PUNCAK SORIK MARAPI  |           |  793  |         |            |          |\n",
      "      1202040  |   2008  |  Luas Lahan yang Dibakar (Ha)  |    150  |  795  |        MUARA SIPONGI  |           |  794  |         |            |          |\n",
      "      1202041  |   2008  |  Luas Lahan yang Dibakar (Ha)  |     55  |  796  |             PAKANTAN  |           |  795  |         |            |          |\n",
      "      1202050  |   2008  |  Luas Lahan yang Dibakar (Ha)  |   51.5  |  797  |          PANYABUNGAN  |           |  796  |         |            |          |\n",
      "      1202051  |   2008  |  Luas Lahan yang Dibakar (Ha)  |         |  798  |  PANYABUNGAN SELATAN  |           |  797  |         |            |          |\n",
      "      1202052  |   2008  |  Luas Lahan yang Dibakar (Ha)  |      2  |  799  |    PANYABUNGAN BARAT  |           |  798  |         |            |          |\n"
     ]
    },
    {
     "name": "stdout",
     "output_type": "stream",
     "text": [
      "      1202053  |   2008  |  Luas Lahan yang Dibakar (Ha)  |         |  800  |    PANYABUNGAN UTARA  |           |  799  |         |            |          |\n",
      "                                                                       12181614.csv                                                                        \n",
      " _id  |  idx  |             series             |  kode_wilayah  |        wilayah        |  tahun  |  triwulan  |  bulan  |  tanggal  |  nilai  |  target  |\n",
      "-----------------------------------------------------------------------------------------------------------------------------------------------------------\n",
      " 796  |  795  |  Luas Lahan yang Dibakar (Ha)  |       1202041  |             PAKANTAN  |   2008  |            |         |           |     55  |          |\n",
      " 797  |  796  |  Luas Lahan yang Dibakar (Ha)  |       1202050  |          PANYABUNGAN  |   2008  |            |         |           |   51.5  |          |\n",
      " 798  |  797  |  Luas Lahan yang Dibakar (Ha)  |       1202051  |  PANYABUNGAN SELATAN  |   2008  |            |         |           |         |          |\n",
      " 799  |  798  |  Luas Lahan yang Dibakar (Ha)  |       1202052  |    PANYABUNGAN BARAT  |   2008  |            |         |           |      2  |          |\n",
      " 800  |  799  |  Luas Lahan yang Dibakar (Ha)  |       1202053  |    PANYABUNGAN UTARA  |   2008  |            |         |           |         |          |\n"
     ]
    },
    {
     "data": {
      "text/plain": [
       "null"
      ]
     },
     "execution_count": 2,
     "metadata": {},
     "output_type": "execute_result"
    }
   ],
   "source": [
    "//point soal no. 1 & 2\n",
    "import tech.tablesaw.api.*;\n",
    "import tech.tablesaw.io.json.*;\n",
    "import static tech.tablesaw.aggregate.AggregateFunctions.*;\n",
    "// display Tablesaw tables with BeakerX table display widget\n",
    "tech.tablesaw.beakerx.TablesawDisplayer.register();\n",
    "\n",
    "//init objek\n",
    "Table  i12181614= Table.read().csv(\"datasets/12181614/12181614.csv\");\n",
    "//print dataset structure\n",
    "System.out.println(i12181614.structure());\n",
    "\n",
    "\n",
    " //Menampilkan semua data dari  frame Binatang\n",
    "\n",
    "System.out.println(i12181614.print());\n",
    "\n",
    "//Json//\n",
    "\n",
    "//init objek JsonReader \n",
    "JsonReader reader = new JsonReader();\n",
    "\n",
    "//membaca file product.json\n",
    "JsonReadOptions fileJSON = JsonReadOptions.builder(\"datasets/12181614/12181614.json\").build();\n",
    "\n",
    "//memasukan data fileJSON ke dataframe \n",
    "Table r12181614 = reader.read(fileJSON);\n",
    "\n",
    "//Menampilkan semua data dari  frame Binatang\n",
    "\n",
    "System.out.println(r12181614.print());\n",
    "\n",
    "// Menggabungkan//\n",
    "//menggabungkan data pada dataframedata1 dan dataframedata2 untuk disimpan di df datagabung\n",
    "Table datagabung = i12181614.append(r12181614);\n",
    "\n",
    "//menampilkan gabungan data yang ada di dataframe datagabung\n",
    "System.out.println(datagabung.last(5)); \n",
    "\n"
   ]
  },
  {
   "cell_type": "code",
   "execution_count": null,
   "metadata": {},
   "outputs": [],
   "source": []
  }
 ],
 "metadata": {
  "kernelspec": {
   "display_name": "Java",
   "language": "java",
   "name": "java"
  },
  "language_info": {
   "codemirror_mode": "text/x-java",
   "file_extension": ".java",
   "mimetype": "",
   "name": "Java",
   "nbconverter_exporter": "",
   "version": "1.8.0_121"
  },
  "toc": {
   "base_numbering": 1,
   "nav_menu": {},
   "number_sections": false,
   "sideBar": false,
   "skip_h1_title": false,
   "title_cell": "Table of Contents",
   "title_sidebar": "Contents",
   "toc_cell": false,
   "toc_position": {},
   "toc_section_display": false,
   "toc_window_display": false
  }
 },
 "nbformat": 4,
 "nbformat_minor": 2
}
